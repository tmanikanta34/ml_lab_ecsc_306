{
 "cells": [
  {
   "cell_type": "code",
   "execution_count": null,
   "metadata": {
    "collapsed": true
   },
   "outputs": [],
   "source": [
    "import numpy as np\n",
    "import tensorflow as tf"
   ]
  },
  {
   "cell_type": "code",
   "execution_count": 18,
   "metadata": {},
   "outputs": [
    {
     "name": "stdout",
     "output_type": "stream",
     "text": [
      "[ 3.]\n",
      "[ 2.]\n"
     ]
    }
   ],
   "source": [
    "import tensorflow as tf\n",
    "\n",
    "x=tf.constant([3.0,4.0,2.0],shape=[1,3],name='x')\n",
    "y=tf.constant([2.0,1.5,2.5],shape=[1,3],name='y')\n",
    "\n",
    "with tf.name_scope('mean_x'):\n",
    "        a=tf.reduce_mean(x,1)\n",
    "        sess=tf.Session()\n",
    "        print(sess.run(a))\n",
    "        \n",
    "with tf.name_scope('mean_y'):\n",
    "        b=tf.reduce_mean(y,1)\n",
    "        sess=tf.Session()\n",
    "        print(sess.run(b))        "
   ]
  },
  {
   "cell_type": "code",
   "execution_count": 19,
   "metadata": {},
   "outputs": [
    {
     "name": "stdout",
     "output_type": "stream",
     "text": [
      "0.666667\n",
      "0.166667\n"
     ]
    }
   ],
   "source": [
    "with tf.name_scope('variance_x'):\n",
    "        c=tf.subtract(x,a)\n",
    "        d=tf.square(c)\n",
    "        e=tf.reduce_mean(d)\n",
    "        sess=tf.Session()\n",
    "        print(sess.run(e)) \n",
    "        \n",
    "        \n",
    "with tf.name_scope('variance_y'):\n",
    "        f=tf.subtract(y,b)\n",
    "        g=tf.square(f)\n",
    "        h=tf.reduce_mean(g)\n",
    "        sess=tf.Session()\n",
    "        print(sess.run(h)) "
   ]
  },
  {
   "cell_type": "code",
   "execution_count": 20,
   "metadata": {},
   "outputs": [
    {
     "name": "stdout",
     "output_type": "stream",
     "text": [
      "-1.0\n"
     ]
    }
   ],
   "source": [
    "with tf.name_scope('covariance'):\n",
    "        i=tf.subtract(x,a)\n",
    "        j=tf.subtract(y,b)\n",
    "        k=tf.multiply(i,j)\n",
    "        i=tf.reduce_sum(k)\n",
    "        sess=tf.Session()\n",
    "        print(sess.run(i)) \n",
    "            \n",
    "    "
   ]
  },
  {
   "cell_type": "code",
   "execution_count": 21,
   "metadata": {},
   "outputs": [
    {
     "name": "stdout",
     "output_type": "stream",
     "text": [
      "-1.5\n"
     ]
    }
   ],
   "source": [
    "with tf.name_scope('m_value'):\n",
    "        j=tf.divide(i,e)\n",
    "        sess=tf.Session()\n",
    "        print(sess.run(j)) "
   ]
  },
  {
   "cell_type": "code",
   "execution_count": 22,
   "metadata": {},
   "outputs": [
    {
     "name": "stdout",
     "output_type": "stream",
     "text": [
      "[ 6.5]\n"
     ]
    }
   ],
   "source": [
    "with tf.name_scope('c_value'):\n",
    "        k=tf.multiply(j,a)\n",
    "        l=tf.subtract(b,k)\n",
    "        sess=tf.Session()\n",
    "        print(sess.run(l)) "
   ]
  },
  {
   "cell_type": "code",
   "execution_count": 23,
   "metadata": {},
   "outputs": [
    {
     "name": "stdout",
     "output_type": "stream",
     "text": [
      "[ 6.5]\n"
     ]
    }
   ],
   "source": [
    "with tf.Session() as sess:\n",
    "    writer = tf.summary.FileWriter(\"/home/kiran/Desktop/ml_lab_ecsc_306-master/labwork/lab1\", sess.graph)\n",
    "    print(sess.run(l))\n",
    "    writer.close()"
   ]
  },
  {
   "cell_type": "code",
   "execution_count": null,
   "metadata": {
    "collapsed": true
   },
   "outputs": [],
   "source": []
  }
 ],
 "metadata": {
  "kernelspec": {
   "display_name": "Python 3",
   "language": "python",
   "name": "python3"
  },
  "language_info": {
   "codemirror_mode": {
    "name": "ipython",
    "version": 3
   },
   "file_extension": ".py",
   "mimetype": "text/x-python",
   "name": "python",
   "nbconvert_exporter": "python",
   "pygments_lexer": "ipython3",
   "version": "3.6.1"
  }
 },
 "nbformat": 4,
 "nbformat_minor": 2
}
