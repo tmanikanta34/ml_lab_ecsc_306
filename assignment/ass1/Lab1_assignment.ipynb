{
 "cells": [
  {
   "cell_type": "code",
   "execution_count": 1,
   "metadata": {},
   "outputs": [
    {
     "name": "stdout",
     "output_type": "stream",
     "text": [
      "121\n"
     ]
    }
   ],
   "source": [
    "# Assignment (A+B)2=A2+B2+2AB\n",
    "\n",
    "#importing the tensor flow and numpy\n",
    "import tensorflow as tf\n",
    "import numpy as np\n",
    "\n",
    "#assigning the constant value\n",
    "A = tf.constant(5)\n",
    "B = tf.constant(6)\n",
    "Asq = tf.multiply(A,A,name = \"A_sq\")\n",
    "Bsq = tf.multiply(B,B,name = \"B_sq\")\n",
    "A2 = tf.multiply(2,A, name = \"2A_mult\")\n",
    "AB2 = tf.multiply(B,A2,name = \"2AB_mult\")\n",
    "result = Asq + Bsq + AB2\n",
    "\n",
    "#starting session to handle exception and graph\n",
    "\n",
    "with tf.Session() as sect:\n",
    "    writer = tf.summary.FileWriter(\"/tmp/tboard/output_homework1\",sect.graph)\n",
    "    print(sect.run(result))\n",
    "    writer.close()"
   ]
  },
  {
   "cell_type": "code",
   "execution_count": 5,
   "metadata": {},
   "outputs": [
    {
     "name": "stdout",
     "output_type": "stream",
     "text": [
      "7\n"
     ]
    }
   ],
   "source": [
    "# Assignment A3-B3=(A-B)(A2+AB+B2)\n",
    "\n",
    "#importing the tensor flow and numpy\n",
    "import tensorflow as tf\n",
    "import numpy as np\n",
    "\n",
    "#assigning the constant value\n",
    "A = tf.constant(2)\n",
    "B = tf.constant(1)\n",
    "Asq = tf.multiply(A,A,name = \"A_square\")\n",
    "Bsq = tf.multiply(B,B,name = \"B_square\")\n",
    "AB = tf.multiply(B,A,name = \"AB_multiply\")\n",
    "X = (A-B)\n",
    "result=(X)*(Asq+AB+Bsq)\n",
    "\n",
    "#starting session to handle exception and graph\n",
    "with tf.Session() as sect:\n",
    "    writer = tf.summary.FileWriter(\"/tmp/tboard/output_homework1\",sect.graph)\n",
    "    print(sect.run(result))\n",
    "    writer.close()"
   ]
  },
  {
   "cell_type": "code",
   "execution_count": null,
   "metadata": {
    "collapsed": true
   },
   "outputs": [],
   "source": []
  }
 ],
 "metadata": {
  "kernelspec": {
   "display_name": "Python 3",
   "language": "python",
   "name": "python3"
  },
  "language_info": {
   "codemirror_mode": {
    "name": "ipython",
    "version": 3
   },
   "file_extension": ".py",
   "mimetype": "text/x-python",
   "name": "python",
   "nbconvert_exporter": "python",
   "pygments_lexer": "ipython3",
   "version": "3.6.1"
  }
 },
 "nbformat": 4,
 "nbformat_minor": 2
}
